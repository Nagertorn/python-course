{
 "cells": [
  {
   "cell_type": "markdown",
   "id": "4ad4a590-7293-4ca8-8616-9fd509b07b4e",
   "metadata": {},
   "source": [
    "# Creando \"Hola mundo\"\n",
    "Pasos:\n",
    "- Crearemos una carpeta donde trabajaremos\n",
    "- Crearemos un archivo python, con extensión `.py`\n",
    "- Escrbiremos el siguiente código\n",
    "- Ejecutaremos el programa de las distintas maneras\n",
    "\n",
    "Abriremos los paréntesis, dentro escribiremos dobles comillas y el texto \"Hello World!\""
   ]
  },
  {
   "cell_type": "code",
   "execution_count": 5,
   "id": "5ad4e9fe-5c75-49e5-af19-cdf0940bb8d1",
   "metadata": {},
   "outputs": [
    {
     "name": "stdout",
     "output_type": "stream",
     "text": [
      "Hello World!\n"
     ]
    }
   ],
   "source": [
    "print(\"Hello World!\")"
   ]
  },
  {
   "cell_type": "markdown",
   "id": "3abfb508-b17f-4da5-b7c6-ad7dcb232765",
   "metadata": {},
   "source": [
    "Cosas para mí:\n",
    "- Dvorak. Meter el acento en la \"X\" y la virgurilla en la \"I\""
   ]
  },
  {
   "cell_type": "code",
   "execution_count": null,
   "id": "5c771fdb-00a2-4b20-b2c9-978906e9e7d0",
   "metadata": {},
   "outputs": [],
   "source": []
  }
 ],
 "metadata": {
  "kernelspec": {
   "display_name": "Python 3 (ipykernel)",
   "language": "python",
   "name": "python3"
  },
  "language_info": {
   "codemirror_mode": {
    "name": "ipython",
    "version": 3
   },
   "file_extension": ".py",
   "mimetype": "text/x-python",
   "name": "python",
   "nbconvert_exporter": "python",
   "pygments_lexer": "ipython3",
   "version": "3.11.2"
  }
 },
 "nbformat": 4,
 "nbformat_minor": 5
}
