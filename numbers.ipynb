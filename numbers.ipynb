{
  "metadata": {
    "language_info": {
      "codemirror_mode": {
        "name": "python",
        "version": 3
      },
      "file_extension": ".py",
      "mimetype": "text/x-python",
      "name": "python",
      "nbconvert_exporter": "python",
      "pygments_lexer": "ipython3",
      "version": "3.8"
    },
    "kernelspec": {
      "name": "python",
      "display_name": "Python (Pyodide)",
      "language": "python"
    }
  },
  "nbformat_minor": 4,
  "nbformat": 4,
  "cells": [
    {
      "cell_type": "markdown",
      "source": "Podemos printar un número",
      "metadata": {}
    },
    {
      "cell_type": "code",
      "source": "print(2)\nprint(1.05389)\nprint(-3)\nprint(3 + 4.5)",
      "metadata": {
        "trusted": true
      },
      "execution_count": 9,
      "outputs": [
        {
          "name": "stdout",
          "text": "2\n1.05389\n-3\n7.5\n",
          "output_type": "stream"
        }
      ]
    },
    {
      "cell_type": "markdown",
      "source": "Podemos hacer todas las operaciones comúnes",
      "metadata": {}
    },
    {
      "cell_type": "code",
      "source": "a = 7\nb = 3\n\nsum = a + b\ndifference = a - b\nproduct = a * b\nquotient = a / b\nremainder = a % b\nexponent_product = a ** b\ntruncate = a // b\n\n\nprint(\"Sum \" + str(sum))\nprint(\"Difference \" + str(difference))\nprint(\"Product \" + str(product))\nprint(\"Quotient \" + str(quotient))\nprint(\"Remainder \" + str(remainder))\nprint(\"Exponent \" + str(exponent_product))\nprint(\"Truncate \" + str(truncate))\n",
      "metadata": {
        "trusted": true
      },
      "execution_count": 15,
      "outputs": [
        {
          "name": "stdout",
          "text": "Sum 10\nDifference 4\nProduct 21\nQuotient 2.3333333333333335\nRemainder 1\nExponent 343\nTruncate 2\n",
          "output_type": "stream"
        }
      ]
    },
    {
      "cell_type": "markdown",
      "source": "Order of operations",
      "metadata": {}
    },
    {
      "cell_type": "code",
      "source": "print(6 / 2 * (1 + 2))",
      "metadata": {
        "trusted": true
      },
      "execution_count": 17,
      "outputs": [
        {
          "name": "stdout",
          "text": "9.0\n",
          "output_type": "stream"
        }
      ]
    },
    {
      "cell_type": "markdown",
      "source": "Operación de segundo grado\n\n$$ x^2 - 5x + 6 = 0 $$\n\n$$ x = {-b \\pm \\sqrt{b^2-4ac} \\over 2a} $$",
      "metadata": {}
    },
    {
      "cell_type": "code",
      "source": "import math\n\na = 1\nb = -5\nc = 6\n\npositive_result = (-b+math.sqrt(b**2 - 4 * a * c))/2*a\nnegative_result = (-b-math.sqrt(b**2 - 4 * a * c))/2*a\n\nprint(\"Positive result: \" + str(positive_result))\nprint(\"Negative result: \" + str(negative_result))",
      "metadata": {
        "trusted": true
      },
      "execution_count": 40,
      "outputs": [
        {
          "name": "stdout",
          "text": "Positive result: 3.0\nNegative result: 2.0\n",
          "output_type": "stream"
        }
      ]
    }
  ]
}