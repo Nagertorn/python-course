{
  "cells": [
    {
      "cell_type": "markdown",
      "metadata": {},
      "source": [
        "Podemos printar un número"
      ]
    },
    {
      "cell_type": "code",
      "execution_count": 9,
      "metadata": {
        "trusted": true
      },
      "outputs": [
        {
          "name": "stdout",
          "output_type": "stream",
          "text": [
            "2\n",
            "1.05389\n",
            "-3\n",
            "7.5\n"
          ]
        }
      ],
      "source": [
        "print(2)\n",
        "print(1.05389)\n",
        "print(-3)\n",
        "print(3 + 4.5)"
      ]
    },
    {
      "cell_type": "markdown",
      "metadata": {},
      "source": [
        "Podemos hacer todas las operaciones comúnes"
      ]
    },
    {
      "cell_type": "code",
      "execution_count": 15,
      "metadata": {
        "trusted": true
      },
      "outputs": [
        {
          "name": "stdout",
          "output_type": "stream",
          "text": [
            "Sum 10\n",
            "Difference 4\n",
            "Product 21\n",
            "Quotient 2.3333333333333335\n",
            "Remainder 1\n",
            "Exponent 343\n",
            "Truncate 2\n"
          ]
        }
      ],
      "source": [
        "a = 7\n",
        "b = 3\n",
        "\n",
        "sum = a + b\n",
        "difference = a - b\n",
        "product = a * b\n",
        "quotient = a / b\n",
        "remainder = a % b\n",
        "exponent_product = a ** b\n",
        "truncate = a // b\n",
        "\n",
        "\n",
        "print(\"Sum \" + str(sum))\n",
        "print(\"Difference \" + str(difference))\n",
        "print(\"Product \" + str(product))\n",
        "print(\"Quotient \" + str(quotient))\n",
        "print(\"Remainder \" + str(remainder))\n",
        "print(\"Exponent \" + str(exponent_product))\n",
        "print(\"Truncate \" + str(truncate))\n"
      ]
    },
    {
      "cell_type": "markdown",
      "metadata": {},
      "source": [
        "Order of operations"
      ]
    },
    {
      "cell_type": "code",
      "execution_count": 17,
      "metadata": {
        "trusted": true
      },
      "outputs": [
        {
          "name": "stdout",
          "output_type": "stream",
          "text": [
            "9.0\n"
          ]
        }
      ],
      "source": [
        "print(6 / 2 * (1 + 2))"
      ]
    },
    {
      "cell_type": "markdown",
      "metadata": {},
      "source": [
        "Operación de segundo grado\n",
        "\n",
        "$$ x^2 - 5x + 6 = 0 $$\n",
        "\n",
        "$$ x = {-b \\pm \\sqrt{b^2-4ac} \\over 2a} $$"
      ]
    },
    {
      "cell_type": "code",
      "execution_count": 40,
      "metadata": {
        "trusted": true
      },
      "outputs": [
        {
          "name": "stdout",
          "output_type": "stream",
          "text": [
            "Positive result: 3.0\n",
            "Negative result: 2.0\n"
          ]
        }
      ],
      "source": [
        "import math\n",
        "\n",
        "a = 1\n",
        "b = -5\n",
        "c = 6\n",
        "\n",
        "positive_result = (-b+math.sqrt(b**2 - 4 * a * c))/2*a\n",
        "negative_result = (-b-math.sqrt(b**2 - 4 * a * c))/2*a\n",
        "\n",
        "print(\"Positive result: \" + str(positive_result))\n",
        "print(\"Negative result: \" + str(negative_result))"
      ]
    },
    {
      "attachments": {},
      "cell_type": "markdown",
      "metadata": {},
      "source": [
        "Para printar un número"
      ]
    },
    {
      "cell_type": "code",
      "execution_count": null,
      "metadata": {},
      "outputs": [],
      "source": [
        "print(str(3) + \"years old\")"
      ]
    },
    {
      "attachments": {},
      "cell_type": "markdown",
      "metadata": {},
      "source": [
        "Funciones que trabajan con números"
      ]
    },
    {
      "cell_type": "code",
      "execution_count": null,
      "metadata": {},
      "outputs": [],
      "source": [
        "num = -9\n",
        "\n",
        "print(abs(num))\n",
        "print(pow(num, 2))\n",
        "print(max(num, 17))\n",
        "print(min(num, 17))\n",
        "print(round(4.68))"
      ]
    },
    {
      "attachments": {},
      "cell_type": "markdown",
      "metadata": {},
      "source": [
        "Math functions"
      ]
    },
    {
      "cell_type": "code",
      "execution_count": null,
      "metadata": {},
      "outputs": [],
      "source": [
        "from math import *\n",
        "\n",
        "print(floor(3.2))\n",
        "print(ceil(3.7))\n",
        "print(sqrt(36))"
      ]
    }
  ],
  "metadata": {
    "kernelspec": {
      "display_name": "Python (Pyodide)",
      "language": "python",
      "name": "python"
    },
    "language_info": {
      "codemirror_mode": {
        "name": "python",
        "version": 3
      },
      "file_extension": ".py",
      "mimetype": "text/x-python",
      "name": "python",
      "nbconvert_exporter": "python",
      "pygments_lexer": "ipython3",
      "version": "3.8"
    }
  },
  "nbformat": 4,
  "nbformat_minor": 4
}
