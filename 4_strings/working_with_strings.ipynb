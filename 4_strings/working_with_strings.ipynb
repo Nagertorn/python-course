{
 "cells": [
  {
   "cell_type": "markdown",
   "id": "7ca9cd62-45a4-4bf1-b6d4-771b6bf49c8b",
   "metadata": {},
   "source": [
    "# Manipulacion\n",
    "El tipo de dato mas común son los strings. Texto plano.\n",
    "\n",
    "Vamos printear un string. Para crear un string necesitamos las comillas `\"`. Dentro de estas pondremos el texto que queremos que tenga el string"
   ]
  },
  {
   "cell_type": "code",
   "execution_count": 29,
   "id": "34d2cd41-6dd7-4fb2-9d05-d77062b9183f",
   "metadata": {},
   "outputs": [
    {
     "name": "stdout",
     "output_type": "stream",
     "text": [
      "Viva españa\n"
     ]
    }
   ],
   "source": [
    "print(\"Viva españa\")"
   ]
  },
  {
   "cell_type": "markdown",
   "id": "1d74d73b-164e-4798-86ad-074102b43758",
   "metadata": {},
   "source": [
    "Podemos crear una nueva linea dentro del string con `\\n`."
   ]
  },
  {
   "cell_type": "code",
   "execution_count": 30,
   "id": "a33c9471-e19f-4faa-bbef-b16a026634ca",
   "metadata": {},
   "outputs": [
    {
     "name": "stdout",
     "output_type": "stream",
     "text": [
      "Viva\n",
      "españa\n"
     ]
    }
   ],
   "source": [
    "print(\"Viva\\nespaña\")"
   ]
  },
  {
   "cell_type": "markdown",
   "id": "e67e0efb-de0e-4baf-b54d-cc98a55c4e91",
   "metadata": {},
   "source": [
    "Normalmente no podemos añadir una comillas dentro de un string."
   ]
  },
  {
   "cell_type": "code",
   "execution_count": 31,
   "id": "8073e55d-c4e2-48a8-8b83-ceba87c1923b",
   "metadata": {},
   "outputs": [
    {
     "ename": "SyntaxError",
     "evalue": "unterminated string literal (detected at line 1) (2141452341.py, line 1)",
     "output_type": "error",
     "traceback": [
      "\u001b[0;36m  Cell \u001b[0;32mIn[31], line 1\u001b[0;36m\u001b[0m\n\u001b[0;31m    print(\"Hola\"Mundo\")\u001b[0m\n\u001b[0m                     ^\u001b[0m\n\u001b[0;31mSyntaxError\u001b[0m\u001b[0;31m:\u001b[0m unterminated string literal (detected at line 1)\n"
     ]
    }
   ],
   "source": [
    "print(\"Hola\"Mundo\")"
   ]
  },
  {
   "cell_type": "markdown",
   "id": "d57e298b-0a61-46c7-8ba8-14f2cff3ea30",
   "metadata": {},
   "source": [
    "Para arreglarlo podemos escaparlo con el backslash `\\`. Basicamente, a no ser que sea un carácter especial no va a renderizar. "
   ]
  },
  {
   "cell_type": "code",
   "execution_count": 32,
   "id": "0d4b5f58-ec1a-4800-b416-772bfdd14f76",
   "metadata": {},
   "outputs": [
    {
     "name": "stdout",
     "output_type": "stream",
     "text": [
      "Hola\"Mundo\n"
     ]
    }
   ],
   "source": [
    "print(\"Hola\\\"Mundo\")"
   ]
  },
  {
   "cell_type": "code",
   "execution_count": 33,
   "id": "b6eb6249-51f2-425e-b366-5de6693c4779",
   "metadata": {},
   "outputs": [
    {
     "name": "stdout",
     "output_type": "stream",
     "text": [
      "Hola\\Mundo\n"
     ]
    }
   ],
   "source": [
    "print(\"Hola\\Mundo\")"
   ]
  },
  {
   "cell_type": "code",
   "execution_count": 34,
   "id": "7a9f217e-8e03-4981-981d-5dcf57e83d6b",
   "metadata": {},
   "outputs": [
    {
     "ename": "SyntaxError",
     "evalue": "unterminated string literal (detected at line 1) (3803935188.py, line 1)",
     "output_type": "error",
     "traceback": [
      "\u001b[0;36m  Cell \u001b[0;32mIn[34], line 1\u001b[0;36m\u001b[0m\n\u001b[0;31m    print('Hola'Mundo')\u001b[0m\n\u001b[0m                     ^\u001b[0m\n\u001b[0;31mSyntaxError\u001b[0m\u001b[0;31m:\u001b[0m unterminated string literal (detected at line 1)\n"
     ]
    }
   ],
   "source": [
    "print('Hola'Mundo')"
   ]
  },
  {
   "cell_type": "markdown",
   "id": "0d41d88c-c27b-4f76-a860-dc86a2fae569",
   "metadata": {},
   "source": [
    "# Variables\n",
    "Podemos crear una variable y uitlizar esa variable"
   ]
  },
  {
   "cell_type": "code",
   "execution_count": 35,
   "id": "ef6e56af-2024-467d-8e8f-ee35e310f017",
   "metadata": {},
   "outputs": [
    {
     "name": "stdout",
     "output_type": "stream",
     "text": [
      "Hello World!\n"
     ]
    }
   ],
   "source": [
    "phrase = \"Hello World!\"\n",
    "print(phrase)"
   ]
  },
  {
   "cell_type": "markdown",
   "id": "df3d8c3a-6b5a-47b7-89e5-4b07db17de14",
   "metadata": {},
   "source": [
    "# Concatenación\n",
    "Accion de juntar dos strings"
   ]
  },
  {
   "cell_type": "code",
   "execution_count": 39,
   "id": "c59620f0-1c97-4cc9-885a-af13d1242121",
   "metadata": {},
   "outputs": [
    {
     "name": "stdout",
     "output_type": "stream",
     "text": [
      "Hello World! Hope it ends soon!\n",
      "Hello World!\n"
     ]
    }
   ],
   "source": [
    "phrase = \"Hello World!\"\n",
    "print(phrase + \" Hope it ends soon!\")\n",
    "print(phrase)"
   ]
  },
  {
   "cell_type": "markdown",
   "id": "04b9f8f5-3381-42ad-8757-7c56e6774914",
   "metadata": {},
   "source": [
    "# Funciones\n",
    "Son un trozo de código que podemos ejecutar para que haga una operación para nosotros. Podemos usarlas para modificar strings o para sacar informacón de ellas.\n",
    "\n",
    "La primera convierte todo el string en minúsculas y el siguiente en mayúsculas."
   ]
  },
  {
   "cell_type": "code",
   "execution_count": 42,
   "id": "1d8ece3b-37a1-49c4-9cc6-ac14117c39d5",
   "metadata": {},
   "outputs": [
    {
     "name": "stdout",
     "output_type": "stream",
     "text": [
      "hello world!\n",
      "HELLO WORLD!\n",
      "HeLlO WoRlD!\n"
     ]
    }
   ],
   "source": [
    "phrase = \"HeLlO WoRlD!\"\n",
    "print(phrase.lower())\n",
    "print(phrase.upper())\n",
    "print(phrase)"
   ]
  },
  {
   "cell_type": "markdown",
   "id": "ef1a52e7-8d6c-46f6-b6e4-9ee7958d4a01",
   "metadata": {},
   "source": [
    "También podemos comprobar si una funcíon esta compuesta completamente por mayúsculas. Está función devolverá un boolean dependiendo del string."
   ]
  },
  {
   "cell_type": "code",
   "execution_count": 44,
   "id": "bd774681-95a1-4cd5-a723-99d165b879a3",
   "metadata": {},
   "outputs": [
    {
     "name": "stdout",
     "output_type": "stream",
     "text": [
      "False\n"
     ]
    }
   ],
   "source": [
    "phrase = \"HeLlO WoRlD!\"\n",
    "print(phrase.isupper())"
   ]
  },
  {
   "cell_type": "markdown",
   "id": "8862d5ca-0299-4a11-9432-dc937347fd9d",
   "metadata": {},
   "source": [
    "También las podemos combinar"
   ]
  },
  {
   "cell_type": "code",
   "execution_count": 45,
   "id": "5dbd1349-284e-40ce-95fe-c2572c7cbff7",
   "metadata": {},
   "outputs": [
    {
     "name": "stdout",
     "output_type": "stream",
     "text": [
      "True\n"
     ]
    }
   ],
   "source": [
    "phrase = \"HeLlO WoRlD!\"\n",
    "print(phrase.upper().isupper())"
   ]
  },
  {
   "cell_type": "markdown",
   "id": "ff942f0c-085c-4eac-98f5-872e5fe9a1c0",
   "metadata": {},
   "source": [
    "También podemos saber la longitud de un string con `len`. A esta función le pasamos un solo parametro que en este caso es el string."
   ]
  },
  {
   "cell_type": "code",
   "execution_count": 46,
   "id": "7083df20-7a1d-46a6-9950-e58c857d2fa9",
   "metadata": {},
   "outputs": [
    {
     "name": "stdout",
     "output_type": "stream",
     "text": [
      "12\n"
     ]
    }
   ],
   "source": [
    "phrase = \"HeLlO WoRlD!\"\n",
    "print(len(phrase))"
   ]
  },
  {
   "cell_type": "markdown",
   "id": "6787fc7f-7ded-4f4d-8053-debb317a48e0",
   "metadata": {},
   "source": [
    "# Array-like\n",
    "\n",
    "Podemos sacar el valor de un caráctercon `[]`."
   ]
  },
  {
   "cell_type": "code",
   "execution_count": 48,
   "id": "3270119b-edf9-482b-8229-9693d73f1cd4",
   "metadata": {},
   "outputs": [
    {
     "name": "stdout",
     "output_type": "stream",
     "text": [
      "l\n"
     ]
    }
   ],
   "source": [
    "phrase = \"HeLlO WoRlD!\"\n",
    "#         012345678901\n",
    "print(phrase[0])"
   ]
  },
  {
   "cell_type": "markdown",
   "id": "9f7010f5-6a9c-4305-ab5c-e92f7bdce2fd",
   "metadata": {},
   "source": [
    "> Ejercicio: Mostrar por consola \"Hello\""
   ]
  },
  {
   "cell_type": "markdown",
   "id": "3e416051-2460-4d56-b382-6918dc167ad5",
   "metadata": {},
   "source": [
    "Podemos buscar en que posición se encuentra un carácter dentro de un string. En este case la función requiere de un parametro."
   ]
  },
  {
   "cell_type": "code",
   "execution_count": 51,
   "id": "5d008282-9868-4ed1-b574-744040d78da6",
   "metadata": {},
   "outputs": [
    {
     "name": "stdout",
     "output_type": "stream",
     "text": [
      "1\n",
      "6\n"
     ]
    },
    {
     "ename": "ValueError",
     "evalue": "substring not found",
     "output_type": "error",
     "traceback": [
      "\u001b[0;31m---------------------------------------------------------------------------\u001b[0m",
      "\u001b[0;31mValueError\u001b[0m                                Traceback (most recent call last)",
      "Cell \u001b[0;32mIn[51], line 4\u001b[0m\n\u001b[1;32m      2\u001b[0m \u001b[38;5;28mprint\u001b[39m(phrase\u001b[38;5;241m.\u001b[39mindex(\u001b[38;5;124m\"\u001b[39m\u001b[38;5;124me\u001b[39m\u001b[38;5;124m\"\u001b[39m))\n\u001b[1;32m      3\u001b[0m \u001b[38;5;28mprint\u001b[39m(phrase\u001b[38;5;241m.\u001b[39mindex(\u001b[38;5;124m\"\u001b[39m\u001b[38;5;124mworld\u001b[39m\u001b[38;5;124m\"\u001b[39m))\n\u001b[0;32m----> 4\u001b[0m \u001b[38;5;28mprint\u001b[39m(\u001b[43mphrase\u001b[49m\u001b[38;5;241;43m.\u001b[39;49m\u001b[43mindex\u001b[49m\u001b[43m(\u001b[49m\u001b[38;5;124;43m\"\u001b[39;49m\u001b[38;5;124;43mz\u001b[39;49m\u001b[38;5;124;43m\"\u001b[39;49m\u001b[43m)\u001b[49m)\n\u001b[1;32m      5\u001b[0m \u001b[38;5;28mprint\u001b[39m(phrase\u001b[38;5;241m.\u001b[39mindex(\u001b[38;5;124m\"\u001b[39m\u001b[38;5;124mE\u001b[39m\u001b[38;5;124m\"\u001b[39m))\n",
      "\u001b[0;31mValueError\u001b[0m: substring not found"
     ]
    }
   ],
   "source": [
    "phrase = \"Hello world!\"\n",
    "print(phrase.index(\"e\"))\n",
    "print(phrase.index(\"world\"))\n",
    "print(phrase.index(\"z\"))\n",
    "print(phrase.index(\"E\"))"
   ]
  },
  {
   "cell_type": "markdown",
   "id": "428a28b5-8f6d-4ff6-add0-50d9a6987bc2",
   "metadata": {},
   "source": [
    "Otra función útil es `replace`. A esta función se le pasan dos paráetros: el primero, lo que quieres reemplazar, y el segundo, con lo que lo quieres reemplazar"
   ]
  },
  {
   "cell_type": "code",
   "execution_count": 52,
   "id": "1adb0b27-f5d0-4547-980a-86b3e5bca79c",
   "metadata": {},
   "outputs": [
    {
     "name": "stdout",
     "output_type": "stream",
     "text": [
      "Goodbye world!\n"
     ]
    }
   ],
   "source": [
    "phrase = \"Hello world!\"\n",
    "print(phrase.replace(\"Hello\", \"Goodbye\"))"
   ]
  }
 ],
 "metadata": {
  "kernelspec": {
   "display_name": "Python 3 (ipykernel)",
   "language": "python",
   "name": "python3"
  },
  "language_info": {
   "codemirror_mode": {
    "name": "ipython",
    "version": 3
   },
   "file_extension": ".py",
   "mimetype": "text/x-python",
   "name": "python",
   "nbconvert_exporter": "python",
   "pygments_lexer": "ipython3",
   "version": "3.11.2"
  }
 },
 "nbformat": 4,
 "nbformat_minor": 5
}
