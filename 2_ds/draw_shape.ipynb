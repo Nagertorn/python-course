{
 "cells": [
  {
   "cell_type": "markdown",
   "id": "070e0d8f-d2c6-434c-9abb-96231274e388",
   "metadata": {},
   "source": [
    "El código que esté dentro del archivo será ejecutado por python.\n",
    "\n",
    "En programación, en un archivo, damos a la maquina un conjunto de instrucciones y lo único que hace es ejectarlas en orden.\n",
    "\n",
    "Vamos a dibujar una forma por pantalla."
   ]
  },
  {
   "cell_type": "code",
   "execution_count": 7,
   "id": "9a5c605b-3b86-4010-bda4-146741fb87c6",
   "metadata": {},
   "outputs": [
    {
     "name": "stdout",
     "output_type": "stream",
     "text": [
      "   /|\n",
      "  / |\n",
      " /  |\n",
      "/___|\n"
     ]
    }
   ],
   "source": [
    "print(\"   /|\")\n",
    "print(\"  / |\")\n",
    "print(\" /  |\")\n",
    "print(\"/___|\")"
   ]
  },
  {
   "cell_type": "markdown",
   "id": "a83d4181-25f8-499f-9a58-241c82dec589",
   "metadata": {},
   "source": [
    "La consola es donde python mostrará el output del programa.\n",
    "\n",
    "Usaremos `print` ya que habrá muchos momentos en los querremos ver el estado del programa.\n",
    "\n",
    "Lo que se muestra por pantalla no viene por arte de magia, es exactamente lo que hemos escrito.\n",
    "\n",
    "Al ejecutar el programa lo que hace Python es leer cada línea de código una a una. \n",
    "\n",
    "Si escribimos lo siguiente, mostrará lo siguiente."
   ]
  },
  {
   "cell_type": "code",
   "execution_count": 9,
   "id": "d2cf14e6-279d-4f37-97c7-c77160561837",
   "metadata": {},
   "outputs": [
    {
     "name": "stdout",
     "output_type": "stream",
     "text": [
      "/___|\n",
      "   /|\n",
      "  / |\n",
      " /  |\n"
     ]
    }
   ],
   "source": [
    "print(\"/___|\")\n",
    "print(\"   /|\")\n",
    "print(\"  / |\")\n",
    "print(\" /  |\")"
   ]
  },
  {
   "cell_type": "code",
   "execution_count": null,
   "id": "d388f144-adb8-479c-87df-64885f78eb81",
   "metadata": {},
   "outputs": [],
   "source": []
  }
 ],
 "metadata": {
  "kernelspec": {
   "display_name": "Python 3 (ipykernel)",
   "language": "python",
   "name": "python3"
  },
  "language_info": {
   "codemirror_mode": {
    "name": "ipython",
    "version": 3
   },
   "file_extension": ".py",
   "mimetype": "text/x-python",
   "name": "python",
   "nbconvert_exporter": "python",
   "pygments_lexer": "ipython3",
   "version": "3.11.2"
  }
 },
 "nbformat": 4,
 "nbformat_minor": 5
}
