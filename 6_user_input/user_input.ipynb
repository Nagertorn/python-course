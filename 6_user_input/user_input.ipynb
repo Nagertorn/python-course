{
 "cells": [
  {
   "cell_type": "code",
   "execution_count": 5,
   "metadata": {},
   "outputs": [
    {
     "name": "stdout",
     "output_type": "stream",
     "text": [
      "Hello Matias!\n",
      "You are 21\n"
     ]
    }
   ],
   "source": [
    "user_name = input(\"Enter your name: \")\n",
    "user_age = input(\"Enter your age: \")\n",
    "print(\"Hello \" + user_name + \"!\") \n",
    "print(\"You are\", user_age)\n",
    "\n",
    "# Preguntar si se acuerda de como printar dos lineas en un solo print"
   ]
  },
  {
   "cell_type": "markdown",
   "metadata": {},
   "source": [
    "Ejercicio\n",
    "- Hacer calculadora\n",
    "- Mad lib"
   ]
  },
  {
   "cell_type": "code",
   "execution_count": 7,
   "metadata": {},
   "outputs": [
    {
     "name": "stdout",
     "output_type": "stream",
     "text": [
      "Roses are green\n",
      "Glasses are blue\n",
      "I love gum\n"
     ]
    }
   ],
   "source": [
    "color = input(\"Enter a color: \")\n",
    "plural_noun = input(\"Enter a plural noun: \")\n",
    "common_noun = input(\"Enter a common noun: \")\n",
    "\n",
    "print(\"Roses are\", color)\n",
    "print(plural_noun, \"are blue\")\n",
    "print(\"I love\", common_noun)"
   ]
  }
 ],
 "metadata": {
  "kernelspec": {
   "display_name": "venv",
   "language": "python",
   "name": "python3"
  },
  "language_info": {
   "codemirror_mode": {
    "name": "ipython",
    "version": 3
   },
   "file_extension": ".py",
   "mimetype": "text/x-python",
   "name": "python",
   "nbconvert_exporter": "python",
   "pygments_lexer": "ipython3",
   "version": "3.11.2"
  },
  "orig_nbformat": 4
 },
 "nbformat": 4,
 "nbformat_minor": 2
}
