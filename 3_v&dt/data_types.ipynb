{
 "cells": [
  {
   "cell_type": "markdown",
   "id": "67d28591-897a-4df5-b0c6-43c867876a9c",
   "metadata": {},
   "source": [
    "Tipos de datos, algunos:\n",
    "- String. Texto plano. Solo necesitas comillas cuando quieres escribir texto.\n",
    "- Number. Numeros. Se usa el punto, `.`, como coma para los decimales. \n",
    "- Boolean. Solo puede tener los valores `True` o `False`. Sin comillas por que no es texto."
   ]
  },
  {
   "cell_type": "code",
   "execution_count": 3,
   "id": "4fbcac28-3384-4c47-a449-4a3357a7c5d9",
   "metadata": {},
   "outputs": [],
   "source": [
    "product_name = \"Cat food\"\n",
    "product_weight = 5\n",
    "isShipped = True"
   ]
  },
  {
   "cell_type": "markdown",
   "id": "7ceeeea7-2236-47be-8b62-23cd0be555fb",
   "metadata": {},
   "source": [
    "Existen mas pero ahora mismo no es de importancia"
   ]
  }
 ],
 "metadata": {
  "kernelspec": {
   "display_name": "Python 3 (ipykernel)",
   "language": "python",
   "name": "python3"
  },
  "language_info": {
   "codemirror_mode": {
    "name": "ipython",
    "version": 3
   },
   "file_extension": ".py",
   "mimetype": "text/x-python",
   "name": "python",
   "nbconvert_exporter": "python",
   "pygments_lexer": "ipython3",
   "version": "3.11.2"
  }
 },
 "nbformat": 4,
 "nbformat_minor": 5
}
