{
 "cells": [
  {
   "cell_type": "markdown",
   "id": "06a9d023-ac40-459d-bca0-0500e76d8ef5",
   "metadata": {},
   "source": [
    "Una variable es un contenedor donde guardamos valores. Y es cuando hacemos esto que nos facilita trabajar con todos los datos dentro de los programas.\n",
    "\n",
    "Si queremos cambiar el nombre del personaje tendremos que buscar cada vez donde aparece y cambiarlo. Esto puede dar lugar a errores. Lo mismo con la edad"
   ]
  },
  {
   "cell_type": "code",
   "execution_count": 1,
   "id": "ca019192-6605-4e83-800a-6a38474535be",
   "metadata": {},
   "outputs": [
    {
     "name": "stdout",
     "output_type": "stream",
     "text": [
      "There once was a man named George, \n",
      "he was 70 years old.\n",
      "He really liked the name Geroge, \n",
      "but didn't like being 70.\n"
     ]
    }
   ],
   "source": [
    "print(\"There once was a woman named Elizabeth, \")\n",
    "print(\"she was 70 years old.\")\n",
    "print(\"She really liked the name Elizabeth, \")\n",
    "print(\"but didn't like being 70.\")"
   ]
  },
  {
   "cell_type": "markdown",
   "id": "8e48f3c3-797e-4c2d-ba31-00e5a9079d5e",
   "metadata": {},
   "source": [
    "Para hacer mas fácil este cambio de nombre y edad podemos crear dos variables que guarden dicha información, después concatenaremos el texto para que lo muestre igual que antes."
   ]
  },
  {
   "cell_type": "code",
   "execution_count": 6,
   "id": "7ba043ab-1988-4f4b-a7b2-b1adccb599c7",
   "metadata": {},
   "outputs": [
    {
     "name": "stdout",
     "output_type": "stream",
     "text": [
      "There once was a woman named Alice, \n",
      "she was 90 years old.\n",
      "She really liked the name Alice, \n",
      "but didn't like being 90.\n"
     ]
    }
   ],
   "source": [
    "character_name = \"Alice\"\n",
    "character_age = \"90\"\n",
    "\n",
    "print(\"There once was a woman named \" + character_name + \", \")\n",
    "print(\"she was \" + character_age + \" years old.\")\n",
    "print(\"She really liked the name \" + character_name + \", \")\n",
    "print(\"but didn't like being \" + character_age + \".\")"
   ]
  },
  {
   "cell_type": "markdown",
   "id": "e4fac8e0-c117-4a52-a7e5-084c3cd7e659",
   "metadata": {},
   "source": [
    "La variables se le pueden cambiar el valor en medio del programa"
   ]
  }
 ],
 "metadata": {
  "kernelspec": {
   "display_name": "Python 3 (ipykernel)",
   "language": "python",
   "name": "python3"
  },
  "language_info": {
   "codemirror_mode": {
    "name": "ipython",
    "version": 3
   },
   "file_extension": ".py",
   "mimetype": "text/x-python",
   "name": "python",
   "nbconvert_exporter": "python",
   "pygments_lexer": "ipython3",
   "version": "3.11.2"
  }
 },
 "nbformat": 4,
 "nbformat_minor": 5
}
